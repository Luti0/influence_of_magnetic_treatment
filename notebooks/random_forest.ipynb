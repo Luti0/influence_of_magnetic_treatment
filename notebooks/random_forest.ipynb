{
 "cells": [
  {
   "cell_type": "code",
   "execution_count": 1,
   "id": "38e585fc",
   "metadata": {},
   "outputs": [],
   "source": [
    "import sys\n",
    "import os\n",
    "\n",
    "# Automatic search for project processing\n",
    "project_root = os.path.abspath(os.path.join(os.getcwd(), \"..\"))\n",
    "if project_root not in sys.path:\n",
    "    sys.path.append(project_root)"
   ]
  },
  {
   "cell_type": "code",
   "execution_count": 2,
   "id": "8603de55",
   "metadata": {},
   "outputs": [],
   "source": [
    "import pandas as pd\n",
    "from scripts.preprocess import file_to_pd\n",
    "\n",
    "df = file_to_pd('../Data/output.csv')"
   ]
  },
  {
   "cell_type": "code",
   "execution_count": 3,
   "id": "c86aa1a9",
   "metadata": {},
   "outputs": [],
   "source": [
    "from scripts.preprocess import preprocess_for_ML\n",
    "\n",
    "X_train, X_test, y_train, y_test = preprocess_for_ML(df)"
   ]
  },
  {
   "cell_type": "code",
   "execution_count": null,
   "id": "654e00bc",
   "metadata": {},
   "outputs": [],
   "source": [
    "from sklearn.ensemble import RandomForestRegressor\n",
    "from sklearn.model_selection import RandomizedSearchCV\n",
    "\n",
    "param_grid = {\n",
    "    'n_estimators': range(100,500),\n",
    "    'max_depth': range(2,10),\n",
    "    'min_samples_leaf': range(2,8),\n",
    "}\n",
    "\n",
    "model = RandomizedSearchCV(RandomForestRegressor(), param_grid, cv=5, n_iter=1000)\n",
    "model.fit(X_train, y_train)\n",
    "model = model.best_estimator_"
   ]
  },
  {
   "cell_type": "code",
   "execution_count": null,
   "id": "66ddbdce",
   "metadata": {},
   "outputs": [],
   "source": [
    "from scripts.predict import predict_single, find_min_J"
   ]
  },
  {
   "cell_type": "code",
   "execution_count": null,
   "id": "5707405a",
   "metadata": {},
   "outputs": [],
   "source": [
    "result = predict_single(model, [25.0, 0.0002, 0.065, 0.005])\n",
    "print(\"J =\", result)"
   ]
  },
  {
   "cell_type": "code",
   "execution_count": null,
   "id": "9bc70f7a",
   "metadata": {},
   "outputs": [],
   "source": [
    "bounds = [(5, 50), (100e-6, 200e-6), (0.04, 0.08), (0.003, 0.01)]\n",
    "\n",
    "optimal_parameters, optimal_j = find_min_J(model, bounds, steps_per_float=15)\n",
    "\n",
    "print(\"Optimal parameters =\", optimal_parameters,'\\n')\n",
    "print(\"Optimal  J =\", optimal_j)"
   ]
  }
 ],
 "metadata": {
  "kernelspec": {
   "display_name": "venv",
   "language": "python",
   "name": "python3"
  },
  "language_info": {
   "codemirror_mode": {
    "name": "ipython",
    "version": 3
   },
   "file_extension": ".py",
   "mimetype": "text/x-python",
   "name": "python",
   "nbconvert_exporter": "python",
   "pygments_lexer": "ipython3",
   "version": "3.11.1"
  }
 },
 "nbformat": 4,
 "nbformat_minor": 5
}

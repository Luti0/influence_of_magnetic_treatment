{
 "cells": [
  {
   "cell_type": "code",
   "execution_count": 1,
   "id": "839f591d",
   "metadata": {},
   "outputs": [],
   "source": [
    "import sys\n",
    "import os\n",
    "\n",
    "# Automatic search for project processing\n",
    "project_root = os.path.abspath(os.path.join(os.getcwd(), \"..\"))\n",
    "if project_root not in sys.path:\n",
    "    sys.path.append(project_root)"
   ]
  },
  {
   "cell_type": "code",
   "execution_count": 2,
   "id": "f3e4efab",
   "metadata": {},
   "outputs": [],
   "source": [
    "import pandas as pd\n",
    "from scripts.preprocess import file_to_pd\n",
    "\n",
    "df = file_to_pd('../Data/output.csv')"
   ]
  },
  {
   "cell_type": "code",
   "execution_count": 3,
   "id": "44d622d7",
   "metadata": {},
   "outputs": [],
   "source": [
    "from scripts.preprocess import preprocess_for_ML\n",
    "\n",
    "X_train, X_test, y_train, y_test = preprocess_for_ML(df)"
   ]
  },
  {
   "cell_type": "code",
   "execution_count": null,
   "id": "1ebf1b2f",
   "metadata": {},
   "outputs": [],
   "source": [
    "from xgboost import XGBRegressor\n",
    "from sklearn.model_selection import GridSearchCV\n",
    "\n",
    "param_grid = {\n",
    "    'n_estimators': range(100,500),\n",
    "    'max_depth': range(2,10),\n",
    "    'learning_rate': [0.01, 0.005, 0.001, 0.0005, 0.0001]\n",
    "}\n",
    "\n",
    "model = GridSearchCV(XGBRegressor(), param_grid, cv=5, n_jobs=-1)\n",
    "model.fit(X_train, y_train)\n",
    "model = model.best_estimator_"
   ]
  },
  {
   "cell_type": "code",
   "execution_count": null,
   "id": "b847e946",
   "metadata": {},
   "outputs": [],
   "source": [
    "from scripts.predict import predict_single, find_min_J"
   ]
  },
  {
   "cell_type": "code",
   "execution_count": null,
   "id": "09702ec4",
   "metadata": {},
   "outputs": [],
   "source": [
    "## 15,0.000164,0.0526,0.006 1.03241\n",
    "result = predict_single(model, [15,0.000164,0.0526,0.006])\n",
    "print(\"J =\", result)"
   ]
  },
  {
   "cell_type": "code",
   "execution_count": null,
   "id": "31242f55",
   "metadata": {},
   "outputs": [],
   "source": [
    "result = predict_single(model, [25.0, 0.0002, 0.065, 0.005])\n",
    "print(\"J =\", result)"
   ]
  },
  {
   "cell_type": "code",
   "execution_count": null,
   "id": "c58b7c31",
   "metadata": {},
   "outputs": [],
   "source": [
    "bounds = [(5, 50), (100e-6, 200e-6), (0.04, 0.08), (0.003, 0.01)]\n",
    "\n",
    "optimal_parameters, optimal_j = find_min_J(model, bounds, steps_per_float=20)\n",
    "\n",
    "print(\"Optimal parameters =\", optimal_parameters,'\\n')\n",
    "print(\"Optimal  J =\", optimal_j)"
   ]
  }
 ],
 "metadata": {
  "kernelspec": {
   "display_name": "venv",
   "language": "python",
   "name": "python3"
  },
  "language_info": {
   "codemirror_mode": {
    "name": "ipython",
    "version": 3
   },
   "file_extension": ".py",
   "mimetype": "text/x-python",
   "name": "python",
   "nbconvert_exporter": "python",
   "pygments_lexer": "ipython3",
   "version": "3.11.1"
  }
 },
 "nbformat": 4,
 "nbformat_minor": 5
}

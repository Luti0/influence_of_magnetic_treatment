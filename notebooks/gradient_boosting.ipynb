{
 "cells": [
  {
   "cell_type": "code",
   "execution_count": 23,
   "id": "839f591d",
   "metadata": {},
   "outputs": [],
   "source": [
    "import sys\n",
    "import os\n",
    "\n",
    "# Automatic search for project processing\n",
    "project_root = os.path.abspath(os.path.join(os.getcwd(), \"..\"))\n",
    "if project_root not in sys.path:\n",
    "    sys.path.append(project_root)"
   ]
  },
  {
   "cell_type": "code",
   "execution_count": 24,
   "id": "f3e4efab",
   "metadata": {},
   "outputs": [],
   "source": [
    "from src.data_preprocess.load import file_to_pd\n",
    "\n",
    "df = file_to_pd('../data/output.csv')"
   ]
  },
  {
   "cell_type": "code",
   "execution_count": 25,
   "id": "44d622d7",
   "metadata": {},
   "outputs": [],
   "source": [
    "from src.data_preprocess.preprocess import data_preprocess\n",
    "\n",
    "X_train, X_test, y_train, y_test = data_preprocess(df, model_name='xgboost')"
   ]
  },
  {
   "cell_type": "code",
   "execution_count": 26,
   "id": "1ebf1b2f",
   "metadata": {},
   "outputs": [
    {
     "name": "stderr",
     "output_type": "stream",
     "text": [
      "[I 2025-06-14 14:22:07,915] A new study created in memory with name: no-name-66680864-0844-43d0-94e8-d576e38bfa1f\n",
      "[I 2025-06-14 14:22:08,612] Trial 0 finished with value: -2.5853061232064837e-06 and parameters: {'n_estimators': 278, 'max_depth': 14, 'learning_rate': 0.00891464177967515, 'subsample': 0.4022122799584069, 'colsample_bytree': 0.2593494798717446}. Best is trial 0 with value: -2.5853061232064837e-06.\n",
      "[I 2025-06-14 14:22:08,778] Trial 1 finished with value: -7.594312429939061e-06 and parameters: {'n_estimators': 114, 'max_depth': 13, 'learning_rate': 0.0011766168594694608, 'subsample': 0.7036080997298764, 'colsample_bytree': 0.4337448119244387}. Best is trial 0 with value: -2.5853061232064837e-06.\n",
      "[I 2025-06-14 14:22:09,090] Trial 2 finished with value: -1.8665802130996286e-06 and parameters: {'n_estimators': 148, 'max_depth': 4, 'learning_rate': 0.03812303020513232, 'subsample': 0.20449739040432002, 'colsample_bytree': 0.3550039303878042}. Best is trial 2 with value: -1.8665802130996286e-06.\n",
      "[I 2025-06-14 14:22:09,657] Trial 3 finished with value: -5.24832635193797e-06 and parameters: {'n_estimators': 201, 'max_depth': 16, 'learning_rate': 0.0017376507753006844, 'subsample': 0.9987263393649009, 'colsample_bytree': 0.9542864136968476}. Best is trial 2 with value: -1.8665802130996286e-06.\n",
      "[I 2025-06-14 14:22:09,907] Trial 4 finished with value: -5.573174366263745e-06 and parameters: {'n_estimators': 157, 'max_depth': 2, 'learning_rate': 0.0035856678534576416, 'subsample': 0.4512045553379178, 'colsample_bytree': 0.275693430768892}. Best is trial 2 with value: -1.8665802130996286e-06.\n",
      "[I 2025-06-14 14:22:10,507] Trial 5 finished with value: -3.7251994788243824e-06 and parameters: {'n_estimators': 293, 'max_depth': 12, 'learning_rate': 0.0027320155330727383, 'subsample': 0.9007966427238092, 'colsample_bytree': 0.6507507592530885}. Best is trial 2 with value: -1.8665802130996286e-06.\n",
      "[I 2025-06-14 14:22:10,716] Trial 6 finished with value: -2.690392525324463e-06 and parameters: {'n_estimators': 128, 'max_depth': 17, 'learning_rate': 0.009716410786922727, 'subsample': 0.3241132792490059, 'colsample_bytree': 0.7448919452437832}. Best is trial 2 with value: -1.8665802130996286e-06.\n",
      "[I 2025-06-14 14:22:11,043] Trial 7 finished with value: -5.371191968140572e-07 and parameters: {'n_estimators': 293, 'max_depth': 11, 'learning_rate': 0.0978336788313522, 'subsample': 0.27436055008847016, 'colsample_bytree': 0.9353478939459519}. Best is trial 7 with value: -5.371191968140572e-07.\n",
      "[I 2025-06-14 14:22:11,268] Trial 8 finished with value: -7.118747175394554e-06 and parameters: {'n_estimators': 125, 'max_depth': 11, 'learning_rate': 0.0013543337664510219, 'subsample': 0.38664980244832114, 'colsample_bytree': 0.7185851576063256}. Best is trial 7 with value: -5.371191968140572e-07.\n",
      "[I 2025-06-14 14:22:11,446] Trial 9 finished with value: -5.885039070760245e-07 and parameters: {'n_estimators': 123, 'max_depth': 4, 'learning_rate': 0.06369259966689793, 'subsample': 0.5856932190364019, 'colsample_bytree': 0.9152105435691273}. Best is trial 7 with value: -5.371191968140572e-07.\n",
      "[I 2025-06-14 14:22:11,763] Trial 10 finished with value: -1.0376600092195185e-06 and parameters: {'n_estimators': 249, 'max_depth': 8, 'learning_rate': 0.09833557309236605, 'subsample': 0.5931243180465604, 'colsample_bytree': 0.5034990938756801}. Best is trial 7 with value: -5.371191968140572e-07.\n",
      "[I 2025-06-14 14:22:12,050] Trial 11 finished with value: -6.535920888440579e-07 and parameters: {'n_estimators': 209, 'max_depth': 20, 'learning_rate': 0.08159926303044375, 'subsample': 0.6138694941578416, 'colsample_bytree': 0.9793781261938562}. Best is trial 7 with value: -5.371191968140572e-07.\n",
      "[I 2025-06-14 14:22:12,527] Trial 12 finished with value: -5.21719292276381e-07 and parameters: {'n_estimators': 238, 'max_depth': 7, 'learning_rate': 0.03141798141173493, 'subsample': 0.21064407680767203, 'colsample_bytree': 0.8335746436221816}. Best is trial 12 with value: -5.21719292276381e-07.\n",
      "[I 2025-06-14 14:22:12,888] Trial 13 finished with value: -5.485912754331903e-07 and parameters: {'n_estimators': 240, 'max_depth': 8, 'learning_rate': 0.025545375210624194, 'subsample': 0.22711953827833514, 'colsample_bytree': 0.847707057673946}. Best is trial 12 with value: -5.21719292276381e-07.\n",
      "[I 2025-06-14 14:22:13,254] Trial 14 finished with value: -5.508416945297753e-07 and parameters: {'n_estimators': 250, 'max_depth': 9, 'learning_rate': 0.02318565895161058, 'subsample': 0.2901474255953108, 'colsample_bytree': 0.8169027817783157}. Best is trial 12 with value: -5.21719292276381e-07.\n",
      "[I 2025-06-14 14:22:13,624] Trial 15 finished with value: -9.36824843218301e-07 and parameters: {'n_estimators': 272, 'max_depth': 7, 'learning_rate': 0.043665242850815376, 'subsample': 0.48440150665055887, 'colsample_bytree': 0.5676932536206825}. Best is trial 12 with value: -5.21719292276381e-07.\n",
      "[I 2025-06-14 14:22:14,024] Trial 16 finished with value: -6.128533982475331e-07 and parameters: {'n_estimators': 216, 'max_depth': 6, 'learning_rate': 0.020811201306770288, 'subsample': 0.3000399663775125, 'colsample_bytree': 0.8471628849638632}. Best is trial 12 with value: -5.21719292276381e-07.\n",
      "[I 2025-06-14 14:22:14,414] Trial 17 finished with value: -4.997687424058274e-07 and parameters: {'n_estimators': 298, 'max_depth': 10, 'learning_rate': 0.04988146309066352, 'subsample': 0.22096299496957547, 'colsample_bytree': 0.7594714744854507}. Best is trial 17 with value: -4.997687424058274e-07.\n",
      "[I 2025-06-14 14:22:14,708] Trial 18 finished with value: -1.319520095124525e-06 and parameters: {'n_estimators': 228, 'max_depth': 10, 'learning_rate': 0.015384489003788495, 'subsample': 0.7738929942666057, 'colsample_bytree': 0.7065046035217869}. Best is trial 17 with value: -4.997687424058274e-07.\n",
      "[I 2025-06-14 14:22:14,930] Trial 19 finished with value: -8.887994926794374e-07 and parameters: {'n_estimators': 178, 'max_depth': 5, 'learning_rate': 0.043877588258854475, 'subsample': 0.37819741196387113, 'colsample_bytree': 0.6076436638913206}. Best is trial 17 with value: -4.997687424058274e-07.\n",
      "[I 2025-06-14 14:22:15,233] Trial 20 finished with value: -1.7761776762796475e-06 and parameters: {'n_estimators': 267, 'max_depth': 2, 'learning_rate': 0.005290559230068718, 'subsample': 0.48440338912315684, 'colsample_bytree': 0.8079979205626222}. Best is trial 17 with value: -4.997687424058274e-07.\n",
      "[I 2025-06-14 14:22:15,560] Trial 21 finished with value: -4.6307922105251887e-07 and parameters: {'n_estimators': 300, 'max_depth': 10, 'learning_rate': 0.06083548751272037, 'subsample': 0.24598277673512656, 'colsample_bytree': 0.8960145961551609}. Best is trial 21 with value: -4.6307922105251887e-07.\n",
      "[I 2025-06-14 14:22:15,856] Trial 22 finished with value: -5.154491931481946e-07 and parameters: {'n_estimators': 294, 'max_depth': 9, 'learning_rate': 0.05224680491633072, 'subsample': 0.20424329660463433, 'colsample_bytree': 0.8830361300252406}. Best is trial 21 with value: -4.6307922105251887e-07.\n",
      "[I 2025-06-14 14:22:16,156] Trial 23 finished with value: -4.60801863053356e-07 and parameters: {'n_estimators': 294, 'max_depth': 14, 'learning_rate': 0.058602783035377935, 'subsample': 0.3392766339279569, 'colsample_bytree': 0.8899786468901761}. Best is trial 23 with value: -4.60801863053356e-07.\n",
      "[I 2025-06-14 14:22:16,542] Trial 24 finished with value: -4.394789707025188e-07 and parameters: {'n_estimators': 264, 'max_depth': 15, 'learning_rate': 0.0627105656626235, 'subsample': 0.3628464616373107, 'colsample_bytree': 0.7522200997259736}. Best is trial 24 with value: -4.394789707025188e-07.\n",
      "[I 2025-06-14 14:22:16,799] Trial 25 finished with value: -7.891130307794042e-07 and parameters: {'n_estimators': 263, 'max_depth': 15, 'learning_rate': 0.06776246426343648, 'subsample': 0.34767025280727565, 'colsample_bytree': 0.6583843013387103}. Best is trial 24 with value: -4.394789707025188e-07.\n",
      "[I 2025-06-14 14:22:17,324] Trial 26 finished with value: -5.827159227534449e-07 and parameters: {'n_estimators': 281, 'max_depth': 17, 'learning_rate': 0.017691882332644987, 'subsample': 0.4267296892680665, 'colsample_bytree': 0.9913632797393874}. Best is trial 24 with value: -4.394789707025188e-07.\n",
      "[I 2025-06-14 14:22:17,708] Trial 27 finished with value: -7.457244333427937e-07 and parameters: {'n_estimators': 259, 'max_depth': 18, 'learning_rate': 0.012325320198210666, 'subsample': 0.491697792052309, 'colsample_bytree': 0.7775071143093901}. Best is trial 24 with value: -4.394789707025188e-07.\n",
      "[I 2025-06-14 14:22:17,999] Trial 28 finished with value: -5.09317653130843e-07 and parameters: {'n_estimators': 282, 'max_depth': 13, 'learning_rate': 0.030624771591543552, 'subsample': 0.5253904432073347, 'colsample_bytree': 0.9008383095810673}. Best is trial 24 with value: -4.394789707025188e-07.\n",
      "[I 2025-06-14 14:22:18,380] Trial 29 finished with value: -1.8168830892105475e-06 and parameters: {'n_estimators': 283, 'max_depth': 14, 'learning_rate': 0.007456987857823698, 'subsample': 0.35360394845799115, 'colsample_bytree': 0.665536241629557}. Best is trial 24 with value: -4.394789707025188e-07.\n",
      "[I 2025-06-14 14:22:18,589] Trial 30 finished with value: -4.963886868254792e-07 and parameters: {'n_estimators': 190, 'max_depth': 19, 'learning_rate': 0.06685676368533232, 'subsample': 0.26985133836583364, 'colsample_bytree': 0.8786427423509232}. Best is trial 24 with value: -4.394789707025188e-07.\n",
      "[I 2025-06-14 14:22:18,797] Trial 31 finished with value: -4.799398810548147e-07 and parameters: {'n_estimators': 185, 'max_depth': 20, 'learning_rate': 0.06638361228882243, 'subsample': 0.2939293503121345, 'colsample_bytree': 0.8918419954297457}. Best is trial 24 with value: -4.394789707025188e-07.\n",
      "[I 2025-06-14 14:22:19,002] Trial 32 finished with value: -4.771958075832648e-07 and parameters: {'n_estimators': 182, 'max_depth': 15, 'learning_rate': 0.06034431591225402, 'subsample': 0.40393121095806606, 'colsample_bytree': 0.9976292317473222}. Best is trial 24 with value: -4.394789707025188e-07.\n",
      "[I 2025-06-14 14:22:19,200] Trial 33 finished with value: -5.253500224036506e-07 and parameters: {'n_estimators': 146, 'max_depth': 14, 'learning_rate': 0.034186616551861775, 'subsample': 0.4165150246837816, 'colsample_bytree': 0.9825842575479233}. Best is trial 24 with value: -4.394789707025188e-07.\n",
      "[I 2025-06-14 14:22:19,501] Trial 34 finished with value: -4.881179364167082e-07 and parameters: {'n_estimators': 299, 'max_depth': 15, 'learning_rate': 0.05937067982730858, 'subsample': 0.5343124109672722, 'colsample_bytree': 0.9977264237950888}. Best is trial 24 with value: -4.394789707025188e-07.\n",
      "[I 2025-06-14 14:22:19,823] Trial 35 finished with value: -5.867479369955002e-07 and parameters: {'n_estimators': 284, 'max_depth': 13, 'learning_rate': 0.03721477071624773, 'subsample': 0.6652748685598915, 'colsample_bytree': 0.9358086157051397}. Best is trial 24 with value: -4.394789707025188e-07.\n",
      "[I 2025-06-14 14:22:20,028] Trial 36 finished with value: -1.4674605663875233e-06 and parameters: {'n_estimators': 161, 'max_depth': 16, 'learning_rate': 0.07881010237686219, 'subsample': 0.34158086584527897, 'colsample_bytree': 0.21393249530473324}. Best is trial 24 with value: -4.394789707025188e-07.\n",
      "[I 2025-06-14 14:22:20,239] Trial 37 finished with value: -1.5823607524290743e-06 and parameters: {'n_estimators': 170, 'max_depth': 13, 'learning_rate': 0.0500456327514826, 'subsample': 0.4392894092644224, 'colsample_bytree': 0.4056879356827135}. Best is trial 24 with value: -4.394789707025188e-07.\n",
      "[I 2025-06-14 14:22:20,485] Trial 38 finished with value: -5.359141772564245e-07 and parameters: {'n_estimators': 222, 'max_depth': 12, 'learning_rate': 0.027504801391947574, 'subsample': 0.2604034976381988, 'colsample_bytree': 0.7792953256880119}. Best is trial 24 with value: -4.394789707025188e-07.\n",
      "[I 2025-06-14 14:22:20,694] Trial 39 finished with value: -6.597733848926246e-07 and parameters: {'n_estimators': 196, 'max_depth': 15, 'learning_rate': 0.08637319980190429, 'subsample': 0.7745744273601686, 'colsample_bytree': 0.9448959617592009}. Best is trial 24 with value: -4.394789707025188e-07.\n",
      "[I 2025-06-14 14:22:21,028] Trial 40 finished with value: -4.317161118480957e-06 and parameters: {'n_estimators': 273, 'max_depth': 17, 'learning_rate': 0.002470203410975779, 'subsample': 0.38306477853625387, 'colsample_bytree': 0.7179201142156677}. Best is trial 24 with value: -4.394789707025188e-07.\n",
      "[I 2025-06-14 14:22:21,241] Trial 41 finished with value: -4.662469798838159e-07 and parameters: {'n_estimators': 186, 'max_depth': 20, 'learning_rate': 0.06928377102619693, 'subsample': 0.31034259267907094, 'colsample_bytree': 0.8809201555789307}. Best is trial 24 with value: -4.394789707025188e-07.\n",
      "[I 2025-06-14 14:22:21,494] Trial 42 finished with value: -4.685926471174833e-07 and parameters: {'n_estimators': 206, 'max_depth': 18, 'learning_rate': 0.04442081854686298, 'subsample': 0.3315311606515044, 'colsample_bytree': 0.942179531254054}. Best is trial 24 with value: -4.394789707025188e-07.\n",
      "[I 2025-06-14 14:22:21,760] Trial 43 finished with value: -4.917470425717825e-07 and parameters: {'n_estimators': 210, 'max_depth': 19, 'learning_rate': 0.041943190839834214, 'subsample': 0.3233294734919485, 'colsample_bytree': 0.8701851224466666}. Best is trial 24 with value: -4.394789707025188e-07.\n",
      "[I 2025-06-14 14:22:21,940] Trial 44 finished with value: -4.818590041102294e-07 and parameters: {'n_estimators': 146, 'max_depth': 18, 'learning_rate': 0.09963084999528656, 'subsample': 0.2499474595575355, 'colsample_bytree': 0.9240542352928524}. Best is trial 24 with value: -4.394789707025188e-07.\n",
      "[I 2025-06-14 14:22:22,109] Trial 45 finished with value: -7.29944756940205e-07 and parameters: {'n_estimators': 104, 'max_depth': 19, 'learning_rate': 0.07545730310522107, 'subsample': 0.9999068444298611, 'colsample_bytree': 0.7949546058527316}. Best is trial 24 with value: -4.394789707025188e-07.\n",
      "[I 2025-06-14 14:22:22,568] Trial 46 finished with value: -5.126198553870241e-07 and parameters: {'n_estimators': 290, 'max_depth': 16, 'learning_rate': 0.03480663578722819, 'subsample': 0.3113152229153079, 'colsample_bytree': 0.9473485656608127}. Best is trial 24 with value: -4.394789707025188e-07.\n",
      "[I 2025-06-14 14:22:22,784] Trial 47 finished with value: -4.723664233862417e-07 and parameters: {'n_estimators': 201, 'max_depth': 18, 'learning_rate': 0.05535895042801554, 'subsample': 0.24543117133156717, 'colsample_bytree': 0.8478332312080038}. Best is trial 24 with value: -4.394789707025188e-07.\n",
      "[I 2025-06-14 14:22:23,028] Trial 48 finished with value: -4.4692270666269825e-07 and parameters: {'n_estimators': 253, 'max_depth': 12, 'learning_rate': 0.08607918012472263, 'subsample': 0.36648948661656633, 'colsample_bytree': 0.8256303897145933}. Best is trial 24 with value: -4.394789707025188e-07.\n",
      "[I 2025-06-14 14:22:23,278] Trial 49 finished with value: -8.11851740693968e-07 and parameters: {'n_estimators': 246, 'max_depth': 10, 'learning_rate': 0.08835191992070904, 'subsample': 0.36366416870046664, 'colsample_bytree': 0.747608580637496}. Best is trial 24 with value: -4.394789707025188e-07.\n",
      "[I 2025-06-14 14:22:23,570] Trial 50 finished with value: -4.793429339490074e-07 and parameters: {'n_estimators': 235, 'max_depth': 11, 'learning_rate': 0.07358294654747062, 'subsample': 0.4624967221961428, 'colsample_bytree': 0.8306891932308953}. Best is trial 24 with value: -4.394789707025188e-07.\n",
      "[I 2025-06-14 14:22:23,869] Trial 51 finished with value: -4.490608248080518e-07 and parameters: {'n_estimators': 271, 'max_depth': 12, 'learning_rate': 0.04823493036555834, 'subsample': 0.3085457361657349, 'colsample_bytree': 0.9131665747046239}. Best is trial 24 with value: -4.394789707025188e-07.\n",
      "[I 2025-06-14 14:22:24,118] Trial 52 finished with value: -5.135493765777816e-07 and parameters: {'n_estimators': 258, 'max_depth': 12, 'learning_rate': 0.09974139176979714, 'subsample': 0.2783163270592358, 'colsample_bytree': 0.8625891774441394}. Best is trial 24 with value: -4.394789707025188e-07.\n",
      "[I 2025-06-14 14:22:24,411] Trial 53 finished with value: -4.3902680758925175e-07 and parameters: {'n_estimators': 274, 'max_depth': 12, 'learning_rate': 0.054138276362314455, 'subsample': 0.3101013483493764, 'colsample_bytree': 0.910211110326983}. Best is trial 53 with value: -4.3902680758925175e-07.\n",
      "[I 2025-06-14 14:22:24,685] Trial 54 finished with value: -4.5486596868477996e-07 and parameters: {'n_estimators': 270, 'max_depth': 12, 'learning_rate': 0.05005868108165054, 'subsample': 0.39026086959424505, 'colsample_bytree': 0.9079974152816113}. Best is trial 53 with value: -4.3902680758925175e-07.\n",
      "[I 2025-06-14 14:22:24,999] Trial 55 finished with value: -5.581286435939967e-07 and parameters: {'n_estimators': 273, 'max_depth': 12, 'learning_rate': 0.021606917700873564, 'subsample': 0.39780055015489185, 'colsample_bytree': 0.8233572799556897}. Best is trial 53 with value: -4.3902680758925175e-07.\n",
      "[I 2025-06-14 14:22:25,370] Trial 56 finished with value: -4.484998092687056e-07 and parameters: {'n_estimators': 251, 'max_depth': 14, 'learning_rate': 0.048782140599706265, 'subsample': 0.37153097245918987, 'colsample_bytree': 0.913950792308058}. Best is trial 53 with value: -4.3902680758925175e-07.\n",
      "[I 2025-06-14 14:22:25,881] Trial 57 finished with value: -5.9905872879746715e-06 and parameters: {'n_estimators': 253, 'max_depth': 11, 'learning_rate': 0.0010358301479294243, 'subsample': 0.4630906382863159, 'colsample_bytree': 0.9610406503230247}. Best is trial 53 with value: -4.3902680758925175e-07.\n",
      "[I 2025-06-14 14:22:26,258] Trial 58 finished with value: -9.239548298442177e-07 and parameters: {'n_estimators': 267, 'max_depth': 12, 'learning_rate': 0.028043513931898325, 'subsample': 0.3787376161179132, 'colsample_bytree': 0.5432668555753384}. Best is trial 53 with value: -4.3902680758925175e-07.\n",
      "[I 2025-06-14 14:22:26,591] Trial 59 finished with value: -5.473093627899818e-07 and parameters: {'n_estimators': 243, 'max_depth': 11, 'learning_rate': 0.04126772765025421, 'subsample': 0.564198992060819, 'colsample_bytree': 0.9192372897845672}. Best is trial 53 with value: -4.3902680758925175e-07.\n",
      "[I 2025-06-14 14:22:26,918] Trial 60 finished with value: -5.914831223244693e-07 and parameters: {'n_estimators': 255, 'max_depth': 13, 'learning_rate': 0.05175320791308923, 'subsample': 0.924947268379334, 'colsample_bytree': 0.7971374113046843}. Best is trial 53 with value: -4.3902680758925175e-07.\n",
      "[I 2025-06-14 14:22:27,298] Trial 61 finished with value: -4.830656973933942e-07 and parameters: {'n_estimators': 288, 'max_depth': 14, 'learning_rate': 0.03761869655395709, 'subsample': 0.3483675474409825, 'colsample_bytree': 0.9191614410903123}. Best is trial 53 with value: -4.3902680758925175e-07.\n",
      "[I 2025-06-14 14:22:27,823] Trial 62 finished with value: -4.738939306280456e-07 and parameters: {'n_estimators': 276, 'max_depth': 13, 'learning_rate': 0.04731266384456945, 'subsample': 0.4132954956238616, 'colsample_bytree': 0.8476091197092684}. Best is trial 53 with value: -4.3902680758925175e-07.\n",
      "[I 2025-06-14 14:22:28,157] Trial 63 finished with value: -4.3458396363338063e-07 and parameters: {'n_estimators': 265, 'max_depth': 14, 'learning_rate': 0.08389120670925952, 'subsample': 0.36378673673156814, 'colsample_bytree': 0.9640461702655791}. Best is trial 63 with value: -4.3458396363338063e-07.\n",
      "[I 2025-06-14 14:22:28,597] Trial 64 finished with value: -4.837289823800099e-07 and parameters: {'n_estimators': 265, 'max_depth': 9, 'learning_rate': 0.08044250726016233, 'subsample': 0.44575337994452824, 'colsample_bytree': 0.9539313314436833}. Best is trial 63 with value: -4.3458396363338063e-07.\n",
      "[I 2025-06-14 14:22:28,952] Trial 65 finished with value: -1.3263337662230649e-06 and parameters: {'n_estimators': 230, 'max_depth': 14, 'learning_rate': 0.007663445419665059, 'subsample': 0.37891076354013936, 'colsample_bytree': 0.9702825855016348}. Best is trial 63 with value: -4.3458396363338063e-07.\n",
      "[I 2025-06-14 14:22:29,272] Trial 66 finished with value: -7.813026781926325e-07 and parameters: {'n_estimators': 249, 'max_depth': 12, 'learning_rate': 0.08622561297202429, 'subsample': 0.2946933250539083, 'colsample_bytree': 0.6285056933595804}. Best is trial 63 with value: -4.3458396363338063e-07.\n",
      "[I 2025-06-14 14:22:29,680] Trial 67 finished with value: -4.76027199226288e-07 and parameters: {'n_estimators': 260, 'max_depth': 13, 'learning_rate': 0.05528113829059293, 'subsample': 0.22711256257540852, 'colsample_bytree': 0.9094163483710767}. Best is trial 63 with value: -4.3458396363338063e-07.\n",
      "[I 2025-06-14 14:22:29,999] Trial 68 finished with value: -4.416578623669899e-07 and parameters: {'n_estimators': 270, 'max_depth': 15, 'learning_rate': 0.0672775281079434, 'subsample': 0.365184947603851, 'colsample_bytree': 0.85374370839554}. Best is trial 63 with value: -4.3458396363338063e-07.\n",
      "[I 2025-06-14 14:22:30,313] Trial 69 finished with value: -4.929130353517125e-07 and parameters: {'n_estimators': 241, 'max_depth': 16, 'learning_rate': 0.06296658515645279, 'subsample': 0.5012855769422849, 'colsample_bytree': 0.7687579539352318}. Best is trial 63 with value: -4.3458396363338063e-07.\n",
      "[I 2025-06-14 14:22:30,686] Trial 70 finished with value: -8.267926620828376e-07 and parameters: {'n_estimators': 278, 'max_depth': 15, 'learning_rate': 0.07227868659134798, 'subsample': 0.35997218787946805, 'colsample_bytree': 0.68694302176045}. Best is trial 63 with value: -4.3458396363338063e-07.\n",
      "[I 2025-06-14 14:22:30,960] Trial 71 finished with value: -4.5044309642327857e-07 and parameters: {'n_estimators': 267, 'max_depth': 16, 'learning_rate': 0.048552663569682124, 'subsample': 0.32346370044166806, 'colsample_bytree': 0.8606174782009256}. Best is trial 63 with value: -4.3458396363338063e-07.\n",
      "[I 2025-06-14 14:22:31,291] Trial 72 finished with value: -2.0568008991226118e-06 and parameters: {'n_estimators': 266, 'max_depth': 14, 'learning_rate': 0.004752056226471472, 'subsample': 0.3230382154492003, 'colsample_bytree': 0.8573139793342023}. Best is trial 63 with value: -4.3458396363338063e-07.\n",
      "[I 2025-06-14 14:22:31,635] Trial 73 finished with value: -5.127555673775052e-07 and parameters: {'n_estimators': 252, 'max_depth': 16, 'learning_rate': 0.030543174928199378, 'subsample': 0.27744890069055944, 'colsample_bytree': 0.8265048042825737}. Best is trial 63 with value: -4.3458396363338063e-07.\n",
      "[I 2025-06-14 14:22:31,899] Trial 74 finished with value: -4.331436079613786e-07 and parameters: {'n_estimators': 258, 'max_depth': 15, 'learning_rate': 0.06146123143543713, 'subsample': 0.36446317193220157, 'colsample_bytree': 0.804142799400413}. Best is trial 74 with value: -4.331436079613786e-07.\n",
      "[I 2025-06-14 14:22:32,196] Trial 75 finished with value: -1.3642852697197659e-06 and parameters: {'n_estimators': 259, 'max_depth': 15, 'learning_rate': 0.06219807363971424, 'subsample': 0.4352638135166515, 'colsample_bytree': 0.34425999244986544}. Best is trial 74 with value: -4.331436079613786e-07.\n",
      "[I 2025-06-14 14:22:32,454] Trial 76 finished with value: -8.049838712164647e-07 and parameters: {'n_estimators': 234, 'max_depth': 14, 'learning_rate': 0.08562497885435615, 'subsample': 0.4088971625475759, 'colsample_bytree': 0.7401566746603486}. Best is trial 74 with value: -4.331436079613786e-07.\n",
      "[I 2025-06-14 14:22:32,771] Trial 77 finished with value: -5.899097874156017e-07 and parameters: {'n_estimators': 286, 'max_depth': 15, 'learning_rate': 0.017974374285601214, 'subsample': 0.3648180135907098, 'colsample_bytree': 0.7858492832608359}. Best is trial 74 with value: -4.331436079613786e-07.\n",
      "[I 2025-06-14 14:22:33,026] Trial 78 finished with value: -4.6505079735028114e-07 and parameters: {'n_estimators': 245, 'max_depth': 3, 'learning_rate': 0.0747010602623441, 'subsample': 0.29414345472847486, 'colsample_bytree': 0.8066519517443382}. Best is trial 74 with value: -4.331436079613786e-07.\n",
      "[I 2025-06-14 14:22:33,322] Trial 79 finished with value: -5.500150866807942e-07 and parameters: {'n_estimators': 278, 'max_depth': 17, 'learning_rate': 0.04003465323587209, 'subsample': 0.6401827331913696, 'colsample_bytree': 0.8911724765007378}. Best is trial 74 with value: -4.331436079613786e-07.\n",
      "[I 2025-06-14 14:22:33,667] Trial 80 finished with value: -4.635265706398934e-07 and parameters: {'n_estimators': 262, 'max_depth': 13, 'learning_rate': 0.056408653574347704, 'subsample': 0.3389395568595586, 'colsample_bytree': 0.8785507865335991}. Best is trial 74 with value: -4.331436079613786e-07.\n",
      "[I 2025-06-14 14:22:33,949] Trial 81 finished with value: -4.539253381870563e-07 and parameters: {'n_estimators': 270, 'max_depth': 16, 'learning_rate': 0.04609692077910829, 'subsample': 0.31517023789962734, 'colsample_bytree': 0.9769660886305398}. Best is trial 74 with value: -4.331436079613786e-07.\n",
      "[I 2025-06-14 14:22:34,206] Trial 82 finished with value: -6.174063931557679e-07 and parameters: {'n_estimators': 254, 'max_depth': 16, 'learning_rate': 0.06746376829175153, 'subsample': 0.7502792118455376, 'colsample_bytree': 0.8425728572663318}. Best is trial 74 with value: -4.331436079613786e-07.\n",
      "[I 2025-06-14 14:22:34,475] Trial 83 finished with value: -4.5299422929037684e-07 and parameters: {'n_estimators': 276, 'max_depth': 17, 'learning_rate': 0.08896792033136339, 'subsample': 0.35656552760280147, 'colsample_bytree': 0.8195963411885377}. Best is trial 74 with value: -4.331436079613786e-07.\n",
      "[I 2025-06-14 14:22:34,790] Trial 84 finished with value: -7.689107347203583e-07 and parameters: {'n_estimators': 265, 'max_depth': 15, 'learning_rate': 0.011395539069026921, 'subsample': 0.4206366209709221, 'colsample_bytree': 0.9320564876859787}. Best is trial 74 with value: -4.331436079613786e-07.\n",
      "[I 2025-06-14 14:22:35,089] Trial 85 finished with value: -5.25997182282035e-07 and parameters: {'n_estimators': 282, 'max_depth': 14, 'learning_rate': 0.03269512362152622, 'subsample': 0.26395560640220395, 'colsample_bytree': 0.8707974724966833}. Best is trial 74 with value: -4.331436079613786e-07.\n",
      "[I 2025-06-14 14:22:35,344] Trial 86 finished with value: -8.108736052300979e-07 and parameters: {'n_estimators': 223, 'max_depth': 13, 'learning_rate': 0.04651603391005138, 'subsample': 0.3336350562987056, 'colsample_bytree': 0.7363386031462765}. Best is trial 74 with value: -4.331436079613786e-07.\n",
      "[I 2025-06-14 14:22:35,672] Trial 87 finished with value: -4.523315445240516e-07 and parameters: {'n_estimators': 248, 'max_depth': 14, 'learning_rate': 0.05588608058376263, 'subsample': 0.36952936918295076, 'colsample_bytree': 0.893600582684129}. Best is trial 74 with value: -4.331436079613786e-07.\n",
      "[I 2025-06-14 14:22:35,957] Trial 88 finished with value: -4.536265385128303e-07 and parameters: {'n_estimators': 291, 'max_depth': 10, 'learning_rate': 0.06374219641665975, 'subsample': 0.23953691265541882, 'colsample_bytree': 0.8624901554513027}. Best is trial 74 with value: -4.331436079613786e-07.\n",
      "[I 2025-06-14 14:22:36,239] Trial 89 finished with value: -4.021917972498922e-07 and parameters: {'n_estimators': 270, 'max_depth': 11, 'learning_rate': 0.07714917495208362, 'subsample': 0.3964661023687852, 'colsample_bytree': 0.9654118243707371}. Best is trial 89 with value: -4.021917972498922e-07.\n",
      "[I 2025-06-14 14:22:36,525] Trial 90 finished with value: -4.3926573425319204e-07 and parameters: {'n_estimators': 273, 'max_depth': 11, 'learning_rate': 0.09336269751554173, 'subsample': 0.39413441300158136, 'colsample_bytree': 0.9989626265746503}. Best is trial 89 with value: -4.021917972498922e-07.\n",
      "[I 2025-06-14 14:22:36,788] Trial 91 finished with value: -4.935878636387172e-07 and parameters: {'n_estimators': 272, 'max_depth': 11, 'learning_rate': 0.09066914732732889, 'subsample': 0.4625611560660287, 'colsample_bytree': 0.980209132530545}. Best is trial 89 with value: -4.021917972498922e-07.\n",
      "[I 2025-06-14 14:22:37,050] Trial 92 finished with value: -4.1345228387547976e-07 and parameters: {'n_estimators': 260, 'max_depth': 11, 'learning_rate': 0.07648902429180618, 'subsample': 0.3906838465090563, 'colsample_bytree': 0.9592295817695458}. Best is trial 89 with value: -4.021917972498922e-07.\n",
      "[I 2025-06-14 14:22:37,310] Trial 93 finished with value: -4.129496010305686e-07 and parameters: {'n_estimators': 256, 'max_depth': 11, 'learning_rate': 0.07590343483089818, 'subsample': 0.3965698357149314, 'colsample_bytree': 0.998473930458453}. Best is trial 89 with value: -4.021917972498922e-07.\n",
      "[I 2025-06-14 14:22:37,570] Trial 94 finished with value: -4.1838822167080365e-07 and parameters: {'n_estimators': 256, 'max_depth': 9, 'learning_rate': 0.07822182545583999, 'subsample': 0.39740911657313255, 'colsample_bytree': 0.9910172880778086}. Best is trial 89 with value: -4.021917972498922e-07.\n",
      "[I 2025-06-14 14:22:37,829] Trial 95 finished with value: -4.2919714880981377e-07 and parameters: {'n_estimators': 258, 'max_depth': 9, 'learning_rate': 0.08044263171120873, 'subsample': 0.3987687488528053, 'colsample_bytree': 0.9981956516368451}. Best is trial 89 with value: -4.021917972498922e-07.\n",
      "[I 2025-06-14 14:22:38,089] Trial 96 finished with value: -4.1479660815981194e-07 and parameters: {'n_estimators': 258, 'max_depth': 8, 'learning_rate': 0.07611611090855368, 'subsample': 0.39015317989667264, 'colsample_bytree': 0.9997516679584812}. Best is trial 89 with value: -4.021917972498922e-07.\n",
      "[I 2025-06-14 14:22:38,385] Trial 97 finished with value: -4.262342071453497e-07 and parameters: {'n_estimators': 256, 'max_depth': 8, 'learning_rate': 0.07793227538644147, 'subsample': 0.3998603435273431, 'colsample_bytree': 0.9997433028226311}. Best is trial 89 with value: -4.021917972498922e-07.\n",
      "[I 2025-06-14 14:22:38,679] Trial 98 finished with value: -4.7065667968968914e-07 and parameters: {'n_estimators': 256, 'max_depth': 7, 'learning_rate': 0.07990051038473524, 'subsample': 0.4264024540279125, 'colsample_bytree': 0.9571525618423109}. Best is trial 89 with value: -4.021917972498922e-07.\n",
      "[I 2025-06-14 14:22:38,966] Trial 99 finished with value: -5.148511216581899e-07 and parameters: {'n_estimators': 261, 'max_depth': 8, 'learning_rate': 0.07650606911882846, 'subsample': 0.5109834860867086, 'colsample_bytree': 0.9746770271155178}. Best is trial 89 with value: -4.021917972498922e-07.\n",
      "[I 2025-06-14 14:22:39,329] Trial 100 finished with value: -4.805322272489528e-07 and parameters: {'n_estimators': 239, 'max_depth': 6, 'learning_rate': 0.09844943876305703, 'subsample': 0.4752191880473166, 'colsample_bytree': 0.9995098491616083}. Best is trial 89 with value: -4.021917972498922e-07.\n",
      "[I 2025-06-14 14:22:39,668] Trial 101 finished with value: -4.2160962012560236e-07 and parameters: {'n_estimators': 258, 'max_depth': 8, 'learning_rate': 0.07257442770717439, 'subsample': 0.39359727489884133, 'colsample_bytree': 0.988284108511035}. Best is trial 89 with value: -4.021917972498922e-07.\n",
      "[I 2025-06-14 14:22:39,943] Trial 102 finished with value: -4.465979015778392e-07 and parameters: {'n_estimators': 245, 'max_depth': 8, 'learning_rate': 0.07407459365692057, 'subsample': 0.4024102207332028, 'colsample_bytree': 0.9620877430464796}. Best is trial 89 with value: -4.021917972498922e-07.\n",
      "[I 2025-06-14 14:22:40,198] Trial 103 finished with value: -5.040056128977523e-07 and parameters: {'n_estimators': 256, 'max_depth': 9, 'learning_rate': 0.0800203327166668, 'subsample': 0.4411026662465849, 'colsample_bytree': 0.9420593220988875}. Best is trial 89 with value: -4.021917972498922e-07.\n",
      "[I 2025-06-14 14:22:40,577] Trial 104 finished with value: -5.007006844318139e-06 and parameters: {'n_estimators': 261, 'max_depth': 9, 'learning_rate': 0.0015600900174631736, 'subsample': 0.3878735458449938, 'colsample_bytree': 0.9878084443182347}. Best is trial 89 with value: -4.021917972498922e-07.\n",
      "[I 2025-06-14 14:22:40,834] Trial 105 finished with value: -4.5112638142803284e-07 and parameters: {'n_estimators': 257, 'max_depth': 6, 'learning_rate': 0.06946357152442681, 'subsample': 0.4187831769572335, 'colsample_bytree': 0.9651616998979483}. Best is trial 89 with value: -4.021917972498922e-07.\n",
      "[I 2025-06-14 14:22:41,099] Trial 106 finished with value: -4.921181874363551e-07 and parameters: {'n_estimators': 251, 'max_depth': 7, 'learning_rate': 0.06021165095573346, 'subsample': 0.45134111619254363, 'colsample_bytree': 0.9309749276398063}. Best is trial 89 with value: -4.021917972498922e-07.\n",
      "[I 2025-06-14 14:22:41,356] Trial 107 finished with value: -4.233437054831562e-07 and parameters: {'n_estimators': 248, 'max_depth': 8, 'learning_rate': 0.08079726509180163, 'subsample': 0.3983368164219254, 'colsample_bytree': 0.9824340211475439}. Best is trial 89 with value: -4.021917972498922e-07.\n",
      "[I 2025-06-14 14:22:41,626] Trial 108 finished with value: -4.4237099706448115e-07 and parameters: {'n_estimators': 233, 'max_depth': 10, 'learning_rate': 0.09321533339274037, 'subsample': 0.4002774091909879, 'colsample_bytree': 0.977590920799032}. Best is trial 89 with value: -4.021917972498922e-07.\n",
      "[I 2025-06-14 14:22:41,924] Trial 109 finished with value: -4.790481177603374e-07 and parameters: {'n_estimators': 238, 'max_depth': 8, 'learning_rate': 0.08239163524932237, 'subsample': 0.4515209305885766, 'colsample_bytree': 0.9528151994178911}. Best is trial 89 with value: -4.021917972498922e-07.\n",
      "[I 2025-06-14 14:22:42,182] Trial 110 finished with value: -4.6785735861494275e-07 and parameters: {'n_estimators': 249, 'max_depth': 9, 'learning_rate': 0.06808650598884071, 'subsample': 0.43023304877007923, 'colsample_bytree': 0.9894923019084789}. Best is trial 89 with value: -4.021917972498922e-07.\n",
      "[I 2025-06-14 14:22:42,443] Trial 111 finished with value: -4.259944411974824e-07 and parameters: {'n_estimators': 262, 'max_depth': 8, 'learning_rate': 0.0743487004613796, 'subsample': 0.3454554406614761, 'colsample_bytree': 0.9700732609807463}. Best is trial 89 with value: -4.021917972498922e-07.\n",
      "[I 2025-06-14 14:22:42,710] Trial 112 finished with value: -4.198292868995359e-07 and parameters: {'n_estimators': 263, 'max_depth': 8, 'learning_rate': 0.07345802130864576, 'subsample': 0.3462126732881753, 'colsample_bytree': 0.9421613470449802}. Best is trial 89 with value: -4.021917972498922e-07.\n",
      "[I 2025-06-14 14:22:42,974] Trial 113 finished with value: -4.2843609448812816e-07 and parameters: {'n_estimators': 261, 'max_depth': 8, 'learning_rate': 0.07251111437327232, 'subsample': 0.3879482270918324, 'colsample_bytree': 0.9394096435595054}. Best is trial 89 with value: -4.021917972498922e-07.\n",
      "[I 2025-06-14 14:22:43,230] Trial 114 finished with value: -4.1935048131438957e-07 and parameters: {'n_estimators': 243, 'max_depth': 7, 'learning_rate': 0.07424045519453289, 'subsample': 0.3847752911218812, 'colsample_bytree': 0.9416096599101635}. Best is trial 89 with value: -4.021917972498922e-07.\n",
      "[I 2025-06-14 14:22:43,500] Trial 115 finished with value: -4.2173705100976466e-07 and parameters: {'n_estimators': 245, 'max_depth': 7, 'learning_rate': 0.07346478951890868, 'subsample': 0.34586605730434167, 'colsample_bytree': 0.9395903280379225}. Best is trial 89 with value: -4.021917972498922e-07.\n",
      "[I 2025-06-14 14:22:43,839] Trial 116 finished with value: -4.585189226080016e-07 and parameters: {'n_estimators': 244, 'max_depth': 7, 'learning_rate': 0.09240680625836875, 'subsample': 0.3351381370359839, 'colsample_bytree': 0.9517600643076781}. Best is trial 89 with value: -4.021917972498922e-07.\n",
      "[I 2025-06-14 14:22:44,128] Trial 117 finished with value: -4.378003226699512e-07 and parameters: {'n_estimators': 228, 'max_depth': 6, 'learning_rate': 0.07127799220995834, 'subsample': 0.35161215867390355, 'colsample_bytree': 0.9274762267777712}. Best is trial 89 with value: -4.021917972498922e-07.\n",
      "[I 2025-06-14 14:22:44,425] Trial 118 finished with value: -4.610278259660355e-07 and parameters: {'n_estimators': 239, 'max_depth': 7, 'learning_rate': 0.058843830726025864, 'subsample': 0.414003364139013, 'colsample_bytree': 0.9769839320720842}. Best is trial 89 with value: -4.021917972498922e-07.\n",
      "[I 2025-06-14 14:22:44,610] Trial 119 finished with value: -4.387954649563505e-07 and parameters: {'n_estimators': 134, 'max_depth': 5, 'learning_rate': 0.06608819821746875, 'subsample': 0.37812849592676895, 'colsample_bytree': 0.9628783998425823}. Best is trial 89 with value: -4.021917972498922e-07.\n",
      "[I 2025-06-14 14:22:45,005] Trial 120 finished with value: -4.797087507305467e-07 and parameters: {'n_estimators': 252, 'max_depth': 8, 'learning_rate': 0.0774341379267207, 'subsample': 0.4773354078759502, 'colsample_bytree': 0.9837570658960584}. Best is trial 89 with value: -4.021917972498922e-07.\n",
      "[I 2025-06-14 14:22:45,264] Trial 121 finished with value: -4.2201262830878656e-07 and parameters: {'n_estimators': 247, 'max_depth': 8, 'learning_rate': 0.07178007190975812, 'subsample': 0.39205883390159363, 'colsample_bytree': 0.9458624790987864}. Best is trial 89 with value: -4.021917972498922e-07.\n",
      "[I 2025-06-14 14:22:45,652] Trial 122 finished with value: -4.6662645635701406e-07 and parameters: {'n_estimators': 242, 'max_depth': 8, 'learning_rate': 0.09660847939553285, 'subsample': 0.3504701618654834, 'colsample_bytree': 0.943322195265696}. Best is trial 89 with value: -4.021917972498922e-07.\n",
      "[I 2025-06-14 14:22:45,931] Trial 123 finished with value: -4.719187781642591e-07 and parameters: {'n_estimators': 247, 'max_depth': 7, 'learning_rate': 0.05397699518882744, 'subsample': 0.4064046700488696, 'colsample_bytree': 0.9272028113172311}. Best is trial 89 with value: -4.021917972498922e-07.\n",
      "[I 2025-06-14 14:22:46,237] Trial 124 finished with value: -4.3106658354106077e-07 and parameters: {'n_estimators': 267, 'max_depth': 10, 'learning_rate': 0.08466876640947144, 'subsample': 0.3812616145980968, 'colsample_bytree': 0.9700351541791786}. Best is trial 89 with value: -4.021917972498922e-07.\n",
      "[I 2025-06-14 14:22:46,485] Trial 125 finished with value: -4.815958633253753e-07 and parameters: {'n_estimators': 254, 'max_depth': 9, 'learning_rate': 0.07373092448524411, 'subsample': 0.4327840305615811, 'colsample_bytree': 0.9496958804384681}. Best is trial 89 with value: -4.021917972498922e-07.\n",
      "[I 2025-06-14 14:22:46,725] Trial 126 finished with value: -1.4010980547161227e-06 and parameters: {'n_estimators': 224, 'max_depth': 8, 'learning_rate': 0.06336376795555693, 'subsample': 0.3462260679159561, 'colsample_bytree': 0.44737706993819637}. Best is trial 89 with value: -4.021917972498922e-07.\n",
      "[I 2025-06-14 14:22:46,995] Trial 127 finished with value: -4.2140273222259694e-07 and parameters: {'n_estimators': 263, 'max_depth': 7, 'learning_rate': 0.08799222870237705, 'subsample': 0.387870268788394, 'colsample_bytree': 0.9060637915010877}. Best is trial 89 with value: -4.021917972498922e-07.\n",
      "[I 2025-06-14 14:22:47,295] Trial 128 finished with value: -4.76561245248044e-07 and parameters: {'n_estimators': 216, 'max_depth': 6, 'learning_rate': 0.08744426882712245, 'subsample': 0.3261731827309037, 'colsample_bytree': 0.913133062717453}. Best is trial 89 with value: -4.021917972498922e-07.\n",
      "[I 2025-06-14 14:22:47,724] Trial 129 finished with value: -3.0881346504921814e-06 and parameters: {'n_estimators': 263, 'max_depth': 7, 'learning_rate': 0.003129156652372565, 'subsample': 0.37742544280646717, 'colsample_bytree': 0.930742582409406}. Best is trial 89 with value: -4.021917972498922e-07.\n",
      "[I 2025-06-14 14:22:47,966] Trial 130 finished with value: -5.605760748057465e-07 and parameters: {'n_estimators': 248, 'max_depth': 7, 'learning_rate': 0.09791237454452643, 'subsample': 0.548661907221193, 'colsample_bytree': 0.8979375626328855}. Best is trial 89 with value: -4.021917972498922e-07.\n",
      "[I 2025-06-14 14:22:48,228] Trial 131 finished with value: -4.5817711842961005e-07 and parameters: {'n_estimators': 269, 'max_depth': 8, 'learning_rate': 0.0687426223430792, 'subsample': 0.41560240346712746, 'colsample_bytree': 0.997253139009586}. Best is trial 89 with value: -4.021917972498922e-07.\n",
      "[I 2025-06-14 14:22:48,540] Trial 132 finished with value: -4.1051439385415164e-06 and parameters: {'n_estimators': 263, 'max_depth': 5, 'learning_rate': 0.0021598756068786935, 'subsample': 0.3959946728686218, 'colsample_bytree': 0.9832668345329537}. Best is trial 89 with value: -4.021917972498922e-07.\n",
      "[I 2025-06-14 14:22:48,892] Trial 133 finished with value: -4.5846265858114925e-07 and parameters: {'n_estimators': 279, 'max_depth': 9, 'learning_rate': 0.07860252994113168, 'subsample': 0.3431111282104011, 'colsample_bytree': 0.9656535545392787}. Best is trial 89 with value: -4.021917972498922e-07.\n",
      "[I 2025-06-14 14:22:49,140] Trial 134 finished with value: -4.4361878167229346e-07 and parameters: {'n_estimators': 255, 'max_depth': 8, 'learning_rate': 0.059194920590110195, 'subsample': 0.3845871966327009, 'colsample_bytree': 0.946522068304383}. Best is trial 89 with value: -4.021917972498922e-07.\n",
      "[I 2025-06-14 14:22:49,389] Trial 135 finished with value: -4.481530842733223e-07 and parameters: {'n_estimators': 250, 'max_depth': 8, 'learning_rate': 0.08364386979886992, 'subsample': 0.42332422502760103, 'colsample_bytree': 0.9727981252842333}. Best is trial 89 with value: -4.021917972498922e-07.\n",
      "[I 2025-06-14 14:22:49,667] Trial 136 finished with value: -4.864383930075828e-07 and parameters: {'n_estimators': 235, 'max_depth': 7, 'learning_rate': 0.07274123374183922, 'subsample': 0.30355092567857406, 'colsample_bytree': 0.9990864031512974}. Best is trial 89 with value: -4.021917972498922e-07.\n",
      "[I 2025-06-14 14:22:49,927] Trial 137 finished with value: -4.865765057099413e-07 and parameters: {'n_estimators': 243, 'max_depth': 6, 'learning_rate': 0.06787450957235593, 'subsample': 0.44851488647747434, 'colsample_bytree': 0.9564907712901958}. Best is trial 89 with value: -4.021917972498922e-07.\n",
      "[I 2025-06-14 14:22:50,174] Trial 138 finished with value: -6.375119345358441e-07 and parameters: {'n_estimators': 260, 'max_depth': 9, 'learning_rate': 0.08954402225086511, 'subsample': 0.8468683691914116, 'colsample_bytree': 0.9841664517509638}. Best is trial 89 with value: -4.021917972498922e-07.\n",
      "[I 2025-06-14 14:22:50,449] Trial 139 finished with value: -4.82142432865551e-07 and parameters: {'n_estimators': 267, 'max_depth': 10, 'learning_rate': 0.05294011595943805, 'subsample': 0.4065877187727356, 'colsample_bytree': 0.9060372016378015}. Best is trial 89 with value: -4.021917972498922e-07.\n",
      "[I 2025-06-14 14:22:50,716] Trial 140 finished with value: -4.2707834311142576e-07 and parameters: {'n_estimators': 254, 'max_depth': 7, 'learning_rate': 0.07991372926158335, 'subsample': 0.37050867237269136, 'colsample_bytree': 0.9359964164854597}. Best is trial 89 with value: -4.021917972498922e-07.\n",
      "[I 2025-06-14 14:22:51,017] Trial 141 finished with value: -4.2978736005404313e-07 and parameters: {'n_estimators': 255, 'max_depth': 7, 'learning_rate': 0.0754189018716493, 'subsample': 0.37006464335449873, 'colsample_bytree': 0.9365056578283797}. Best is trial 89 with value: -4.021917972498922e-07.\n",
      "[I 2025-06-14 14:22:51,282] Trial 142 finished with value: -4.49649909085459e-07 and parameters: {'n_estimators': 252, 'max_depth': 8, 'learning_rate': 0.08087482747767227, 'subsample': 0.3549317291921573, 'colsample_bytree': 0.9643679268965193}. Best is trial 89 with value: -4.021917972498922e-07.\n",
      "[I 2025-06-14 14:22:51,552] Trial 143 finished with value: -4.4073355755956234e-07 and parameters: {'n_estimators': 246, 'max_depth': 7, 'learning_rate': 0.06461720417856186, 'subsample': 0.39003849063349283, 'colsample_bytree': 0.9227549336653961}. Best is trial 89 with value: -4.021917972498922e-07.\n",
      "[I 2025-06-14 14:22:51,876] Trial 144 finished with value: -4.1777706676618553e-07 and parameters: {'n_estimators': 258, 'max_depth': 8, 'learning_rate': 0.08694173841249651, 'subsample': 0.37360121599948776, 'colsample_bytree': 0.9779365976176619}. Best is trial 89 with value: -4.021917972498922e-07.\n",
      "[I 2025-06-14 14:22:52,140] Trial 145 finished with value: -4.571435901768354e-07 and parameters: {'n_estimators': 258, 'max_depth': 11, 'learning_rate': 0.09094177241510012, 'subsample': 0.3333837052500559, 'colsample_bytree': 0.9862427275569593}. Best is trial 89 with value: -4.021917972498922e-07.\n",
      "[I 2025-06-14 14:22:52,407] Trial 146 finished with value: -4.615625484504546e-07 and parameters: {'n_estimators': 263, 'max_depth': 9, 'learning_rate': 0.09796309176269719, 'subsample': 0.3997529987806876, 'colsample_bytree': 0.9550738729357041}. Best is trial 89 with value: -4.021917972498922e-07.\n",
      "[I 2025-06-14 14:22:52,679] Trial 147 finished with value: -4.7562622930480143e-07 and parameters: {'n_estimators': 268, 'max_depth': 8, 'learning_rate': 0.060339107266275734, 'subsample': 0.42753191734671203, 'colsample_bytree': 0.9740365307242277}. Best is trial 89 with value: -4.021917972498922e-07.\n",
      "[I 2025-06-14 14:22:53,058] Trial 148 finished with value: -4.6398429466945293e-07 and parameters: {'n_estimators': 276, 'max_depth': 10, 'learning_rate': 0.07285021940263393, 'subsample': 0.32287654136475435, 'colsample_bytree': 0.9979722018926849}. Best is trial 89 with value: -4.021917972498922e-07.\n",
      "[I 2025-06-14 14:22:53,405] Trial 149 finished with value: -4.623158801282523e-07 and parameters: {'n_estimators': 258, 'max_depth': 8, 'learning_rate': 0.08575407148199686, 'subsample': 0.3582679687787058, 'colsample_bytree': 0.9523886429582966}. Best is trial 89 with value: -4.021917972498922e-07.\n",
      "[I 2025-06-14 14:22:53,738] Trial 150 finished with value: -4.385257783483295e-07 and parameters: {'n_estimators': 263, 'max_depth': 9, 'learning_rate': 0.06552411156537144, 'subsample': 0.3882189485799019, 'colsample_bytree': 0.9781855000252007}. Best is trial 89 with value: -4.021917972498922e-07.\n",
      "[I 2025-06-14 14:22:54,048] Trial 151 finished with value: -4.260318759059556e-07 and parameters: {'n_estimators': 252, 'max_depth': 6, 'learning_rate': 0.07920242349128333, 'subsample': 0.3716260218056778, 'colsample_bytree': 0.9429944314092996}. Best is trial 89 with value: -4.021917972498922e-07.\n",
      "[I 2025-06-14 14:22:54,428] Trial 152 finished with value: -4.5948766618182224e-07 and parameters: {'n_estimators': 248, 'max_depth': 6, 'learning_rate': 0.07665842413651314, 'subsample': 0.4115663063579422, 'colsample_bytree': 0.967841702138401}. Best is trial 89 with value: -4.021917972498922e-07.\n",
      "[I 2025-06-14 14:22:54,675] Trial 153 finished with value: -4.947665824294725e-07 and parameters: {'n_estimators': 242, 'max_depth': 8, 'learning_rate': 0.09977245371546042, 'subsample': 0.3439855441739262, 'colsample_bytree': 0.914685341363819}. Best is trial 89 with value: -4.021917972498922e-07.\n",
      "[I 2025-06-14 14:22:54,938] Trial 154 finished with value: -4.2771657280742074e-07 and parameters: {'n_estimators': 252, 'max_depth': 6, 'learning_rate': 0.07027238420477487, 'subsample': 0.3794783102037373, 'colsample_bytree': 0.9456367942528929}. Best is trial 89 with value: -4.021917972498922e-07.\n",
      "[I 2025-06-14 14:22:55,196] Trial 155 finished with value: -4.92530747901478e-07 and parameters: {'n_estimators': 259, 'max_depth': 7, 'learning_rate': 0.08721363528261722, 'subsample': 0.4389810215964849, 'colsample_bytree': 0.9849008326680028}. Best is trial 89 with value: -4.021917972498922e-07.\n",
      "[I 2025-06-14 14:22:55,460] Trial 156 finished with value: -4.1947916654960044e-07 and parameters: {'n_estimators': 238, 'max_depth': 8, 'learning_rate': 0.05731754884501209, 'subsample': 0.3559832448702442, 'colsample_bytree': 0.9277767753613795}. Best is trial 89 with value: -4.021917972498922e-07.\n",
      "[I 2025-06-14 14:22:55,828] Trial 157 finished with value: -4.353905115673429e-07 and parameters: {'n_estimators': 239, 'max_depth': 8, 'learning_rate': 0.05627911695366087, 'subsample': 0.36101694607872437, 'colsample_bytree': 0.8885718861142522}. Best is trial 89 with value: -4.021917972498922e-07.\n",
      "[I 2025-06-14 14:22:56,137] Trial 158 finished with value: -4.632347891844777e-07 and parameters: {'n_estimators': 231, 'max_depth': 5, 'learning_rate': 0.06343529335260686, 'subsample': 0.311063380809247, 'colsample_bytree': 0.9283698213015551}. Best is trial 89 with value: -4.021917972498922e-07.\n",
      "[I 2025-06-14 14:22:56,464] Trial 159 finished with value: -4.5004633790387837e-07 and parameters: {'n_estimators': 237, 'max_depth': 11, 'learning_rate': 0.08267949929081206, 'subsample': 0.3734477235034054, 'colsample_bytree': 0.9620756759558956}. Best is trial 89 with value: -4.021917972498922e-07.\n",
      "[I 2025-06-14 14:22:56,794] Trial 160 finished with value: -4.3548861872171475e-07 and parameters: {'n_estimators': 245, 'max_depth': 9, 'learning_rate': 0.07224660612489862, 'subsample': 0.33702396699621684, 'colsample_bytree': 0.9064064401470663}. Best is trial 89 with value: -4.021917972498922e-07.\n",
      "[I 2025-06-14 14:22:57,170] Trial 161 finished with value: -4.1115099820365996e-07 and parameters: {'n_estimators': 250, 'max_depth': 8, 'learning_rate': 0.07895378595209505, 'subsample': 0.39225648233502974, 'colsample_bytree': 0.9399624484917366}. Best is trial 89 with value: -4.021917972498922e-07.\n",
      "[I 2025-06-14 14:22:57,493] Trial 162 finished with value: -4.227616937298618e-07 and parameters: {'n_estimators': 249, 'max_depth': 7, 'learning_rate': 0.09069853800566867, 'subsample': 0.38909940851296887, 'colsample_bytree': 0.9384282846025706}. Best is trial 89 with value: -4.021917972498922e-07.\n",
      "[I 2025-06-14 14:22:57,890] Trial 163 finished with value: -4.474268055082657e-07 and parameters: {'n_estimators': 249, 'max_depth': 7, 'learning_rate': 0.08890112816646409, 'subsample': 0.4137048436839312, 'colsample_bytree': 0.9534240944457203}. Best is trial 89 with value: -4.021917972498922e-07.\n",
      "[I 2025-06-14 14:22:58,237] Trial 164 finished with value: -4.1617603081716393e-07 and parameters: {'n_estimators': 271, 'max_depth': 7, 'learning_rate': 0.08920234407952742, 'subsample': 0.39506293301758477, 'colsample_bytree': 0.9266709682596368}. Best is trial 89 with value: -4.021917972498922e-07.\n",
      "[I 2025-06-14 14:22:58,579] Trial 165 finished with value: -4.5112773626164925e-07 and parameters: {'n_estimators': 271, 'max_depth': 7, 'learning_rate': 0.09956155982967527, 'subsample': 0.3941681787004949, 'colsample_bytree': 0.9220102572231014}. Best is trial 89 with value: -4.021917972498922e-07.\n",
      "[I 2025-06-14 14:22:58,901] Trial 166 finished with value: -4.955675336996221e-07 and parameters: {'n_estimators': 243, 'max_depth': 7, 'learning_rate': 0.09095694429084872, 'subsample': 0.46258578983246995, 'colsample_bytree': 0.9032791956998951}. Best is trial 89 with value: -4.021917972498922e-07.\n",
      "[I 2025-06-14 14:22:59,263] Trial 167 finished with value: -4.5446770008903257e-07 and parameters: {'n_estimators': 267, 'max_depth': 8, 'learning_rate': 0.06674180122471633, 'subsample': 0.4264939180253423, 'colsample_bytree': 0.9334324497497134}. Best is trial 89 with value: -4.021917972498922e-07.\n",
      "[I 2025-06-14 14:22:59,964] Trial 168 finished with value: -1.8069041931837031e-06 and parameters: {'n_estimators': 249, 'max_depth': 7, 'learning_rate': 0.005434760441801733, 'subsample': 0.3863430433095588, 'colsample_bytree': 0.9187505079987983}. Best is trial 89 with value: -4.021917972498922e-07.\n",
      "[I 2025-06-14 14:23:00,506] Trial 169 finished with value: -4.518058158247493e-07 and parameters: {'n_estimators': 273, 'max_depth': 9, 'learning_rate': 0.08477623805644652, 'subsample': 0.41099355801657417, 'colsample_bytree': 0.8855310019610738}. Best is trial 89 with value: -4.021917972498922e-07.\n",
      "[I 2025-06-14 14:23:00,936] Trial 170 finished with value: -6.891887347785054e-07 and parameters: {'n_estimators': 257, 'max_depth': 8, 'learning_rate': 0.013895164594430683, 'subsample': 0.3568092790022914, 'colsample_bytree': 0.939950717573629}. Best is trial 89 with value: -4.021917972498922e-07.\n",
      "[I 2025-06-14 14:23:01,277] Trial 171 finished with value: -8.129474315263247e-07 and parameters: {'n_estimators': 263, 'max_depth': 8, 'learning_rate': 0.07506515758120062, 'subsample': 0.3502817218715532, 'colsample_bytree': 0.570096547382306}. Best is trial 89 with value: -4.021917972498922e-07.\n",
      "[I 2025-06-14 14:23:01,584] Trial 172 finished with value: -4.2290464974286937e-07 and parameters: {'n_estimators': 260, 'max_depth': 8, 'learning_rate': 0.07021097810324636, 'subsample': 0.3926882054765988, 'colsample_bytree': 0.9697669790801507}. Best is trial 89 with value: -4.021917972498922e-07.\n",
      "[I 2025-06-14 14:23:01,935] Trial 173 finished with value: -4.2485333239592047e-07 and parameters: {'n_estimators': 255, 'max_depth': 7, 'learning_rate': 0.06943017552030258, 'subsample': 0.39617313739238363, 'colsample_bytree': 0.9758641891229912}. Best is trial 89 with value: -4.021917972498922e-07.\n",
      "[I 2025-06-14 14:23:02,257] Trial 174 finished with value: -1.3783472985966452e-06 and parameters: {'n_estimators': 260, 'max_depth': 8, 'learning_rate': 0.08259170761315132, 'subsample': 0.3792955769257065, 'colsample_bytree': 0.31121248247768313}. Best is trial 89 with value: -4.021917972498922e-07.\n",
      "[I 2025-06-14 14:23:02,582] Trial 175 finished with value: -4.7514690912942915e-07 and parameters: {'n_estimators': 246, 'max_depth': 7, 'learning_rate': 0.05886166266541426, 'subsample': 0.40520547391113254, 'colsample_bytree': 0.9586099336275516}. Best is trial 89 with value: -4.021917972498922e-07.\n",
      "[I 2025-06-14 14:23:02,840] Trial 176 finished with value: -6.234373894000168e-07 and parameters: {'n_estimators': 251, 'max_depth': 9, 'learning_rate': 0.09080163714927306, 'subsample': 0.6129868060129392, 'colsample_bytree': 0.9853805017518735}. Best is trial 89 with value: -4.021917972498922e-07.\n",
      "[I 2025-06-14 14:23:03,162] Trial 177 finished with value: -4.7383365819104694e-07 and parameters: {'n_estimators': 266, 'max_depth': 10, 'learning_rate': 0.06318539422713706, 'subsample': 0.42248665088155896, 'colsample_bytree': 0.9447271951542209}. Best is trial 89 with value: -4.021917972498922e-07.\n",
      "[I 2025-06-14 14:23:03,429] Trial 178 finished with value: -4.986148341835786e-07 and parameters: {'n_estimators': 242, 'max_depth': 8, 'learning_rate': 0.07762629612382539, 'subsample': 0.44163456475128027, 'colsample_bytree': 0.9646650360890028}. Best is trial 89 with value: -4.021917972498922e-07.\n",
      "[I 2025-06-14 14:23:03,803] Trial 179 finished with value: -4.433268932464867e-07 and parameters: {'n_estimators': 257, 'max_depth': 7, 'learning_rate': 0.07189186372417142, 'subsample': 0.3674172782494873, 'colsample_bytree': 0.9254381095140689}. Best is trial 89 with value: -4.021917972498922e-07.\n",
      "[I 2025-06-14 14:23:04,029] Trial 180 finished with value: -4.4275293836495487e-07 and parameters: {'n_estimators': 174, 'max_depth': 8, 'learning_rate': 0.08859426193152414, 'subsample': 0.38456318532827666, 'colsample_bytree': 0.9868209742262244}. Best is trial 89 with value: -4.021917972498922e-07.\n",
      "[I 2025-06-14 14:23:04,334] Trial 181 finished with value: -4.31883256871523e-07 and parameters: {'n_estimators': 255, 'max_depth': 6, 'learning_rate': 0.06721525092459804, 'subsample': 0.39995034637660765, 'colsample_bytree': 0.9752948579266182}. Best is trial 89 with value: -4.021917972498922e-07.\n",
      "[I 2025-06-14 14:23:04,616] Trial 182 finished with value: -4.346550566605823e-07 and parameters: {'n_estimators': 253, 'max_depth': 7, 'learning_rate': 0.06993866449942347, 'subsample': 0.3932820636099842, 'colsample_bytree': 0.9994329031639458}. Best is trial 89 with value: -4.021917972498922e-07.\n",
      "[I 2025-06-14 14:23:04,898] Trial 183 finished with value: -4.3549628709917706e-07 and parameters: {'n_estimators': 265, 'max_depth': 7, 'learning_rate': 0.08094205593194778, 'subsample': 0.40907254895655454, 'colsample_bytree': 0.9676807020181964}. Best is trial 89 with value: -4.021917972498922e-07.\n",
      "[I 2025-06-14 14:23:05,180] Trial 184 finished with value: -4.356429872106635e-07 and parameters: {'n_estimators': 260, 'max_depth': 11, 'learning_rate': 0.07692488976928327, 'subsample': 0.3737279303501026, 'colsample_bytree': 0.9493828593969985}. Best is trial 89 with value: -4.021917972498922e-07.\n",
      "[I 2025-06-14 14:23:05,452] Trial 185 finished with value: -4.411489002844262e-07 and parameters: {'n_estimators': 247, 'max_depth': 9, 'learning_rate': 0.06115474986489797, 'subsample': 0.39255894949832165, 'colsample_bytree': 0.9783908457725656}. Best is trial 89 with value: -4.021917972498922e-07.\n",
      "[I 2025-06-14 14:23:05,795] Trial 186 finished with value: -4.528034118197934e-07 and parameters: {'n_estimators': 269, 'max_depth': 8, 'learning_rate': 0.06945585134711778, 'subsample': 0.42700888342354143, 'colsample_bytree': 0.9375297561156025}. Best is trial 89 with value: -4.021917972498922e-07.\n",
      "[I 2025-06-14 14:23:06,061] Trial 187 finished with value: -4.332598771150153e-07 and parameters: {'n_estimators': 255, 'max_depth': 7, 'learning_rate': 0.09244419949494312, 'subsample': 0.3702916654693564, 'colsample_bytree': 0.9561927485515151}. Best is trial 89 with value: -4.021917972498922e-07.\n",
      "[I 2025-06-14 14:23:06,331] Trial 188 finished with value: -1.3688113965414677e-06 and parameters: {'n_estimators': 250, 'max_depth': 8, 'learning_rate': 0.08190680041874697, 'subsample': 0.3586877691102648, 'colsample_bytree': 0.4869446504086196}. Best is trial 89 with value: -4.021917972498922e-07.\n",
      "[I 2025-06-14 14:23:06,618] Trial 189 finished with value: -4.794551818009802e-07 and parameters: {'n_estimators': 262, 'max_depth': 6, 'learning_rate': 0.055296840914097, 'subsample': 0.4025046369361545, 'colsample_bytree': 0.9802590670310894}. Best is trial 89 with value: -4.021917972498922e-07.\n",
      "[I 2025-06-14 14:23:06,866] Trial 190 finished with value: -4.1976866493076446e-07 and parameters: {'n_estimators': 238, 'max_depth': 7, 'learning_rate': 0.0741604859609728, 'subsample': 0.3831131500299141, 'colsample_bytree': 0.9133387395626561}. Best is trial 89 with value: -4.021917972498922e-07.\n",
      "[I 2025-06-14 14:23:07,162] Trial 191 finished with value: -4.4057268421091383e-07 and parameters: {'n_estimators': 234, 'max_depth': 7, 'learning_rate': 0.07226478049759609, 'subsample': 0.38108002054389595, 'colsample_bytree': 0.9173965682231578}. Best is trial 89 with value: -4.021917972498922e-07.\n",
      "[I 2025-06-14 14:23:07,472] Trial 192 finished with value: -4.6457756767944913e-07 and parameters: {'n_estimators': 241, 'max_depth': 7, 'learning_rate': 0.06643474467482526, 'subsample': 0.41786037132481485, 'colsample_bytree': 0.9027245191263262}. Best is trial 89 with value: -4.021917972498922e-07.\n",
      "[I 2025-06-14 14:23:08,107] Trial 193 finished with value: -4.324877239613519e-07 and parameters: {'n_estimators': 239, 'max_depth': 8, 'learning_rate': 0.0817404423575868, 'subsample': 0.3899735705146988, 'colsample_bytree': 0.9610036575660981}. Best is trial 89 with value: -4.021917972498922e-07.\n",
      "[I 2025-06-14 14:23:08,404] Trial 194 finished with value: -4.2962462404444344e-07 and parameters: {'n_estimators': 227, 'max_depth': 7, 'learning_rate': 0.07552049415376202, 'subsample': 0.3551415032121968, 'colsample_bytree': 0.9321490311391647}. Best is trial 89 with value: -4.021917972498922e-07.\n",
      "[I 2025-06-14 14:23:08,723] Trial 195 finished with value: -6.573020990903224e-07 and parameters: {'n_estimators': 246, 'max_depth': 8, 'learning_rate': 0.08609992468513472, 'subsample': 0.7135784222287535, 'colsample_bytree': 0.986202968720937}. Best is trial 89 with value: -4.021917972498922e-07.\n",
      "[I 2025-06-14 14:23:09,131] Trial 196 finished with value: -4.6882396697601206e-07 and parameters: {'n_estimators': 258, 'max_depth': 9, 'learning_rate': 0.09261535589452474, 'subsample': 0.3329738577462176, 'colsample_bytree': 0.9473325825747098}. Best is trial 89 with value: -4.021917972498922e-07.\n",
      "[I 2025-06-14 14:23:09,408] Trial 197 finished with value: -4.50748262387841e-07 and parameters: {'n_estimators': 252, 'max_depth': 6, 'learning_rate': 0.0641331423905823, 'subsample': 0.40041595152766646, 'colsample_bytree': 0.9981866410278106}. Best is trial 89 with value: -4.021917972498922e-07.\n",
      "[I 2025-06-14 14:23:09,798] Trial 198 finished with value: -4.747263463983789e-07 and parameters: {'n_estimators': 265, 'max_depth': 8, 'learning_rate': 0.09994531943836076, 'subsample': 0.3773351793954837, 'colsample_bytree': 0.9690737672305597}. Best is trial 89 with value: -4.021917972498922e-07.\n",
      "[I 2025-06-14 14:23:10,121] Trial 199 finished with value: -4.5753964549659e-07 and parameters: {'n_estimators': 245, 'max_depth': 7, 'learning_rate': 0.07599919890194567, 'subsample': 0.4323310996833767, 'colsample_bytree': 0.9189468525216936}. Best is trial 89 with value: -4.021917972498922e-07.\n"
     ]
    }
   ],
   "source": [
    "from src.train.train import train_ML\n",
    "from src.models.model_factory import get_model\n",
    "model = train_ML(get_model('xgboost'),X_train=X_train,y_train=y_train, PATH='../models/ML_weights_xgb.pth')"
   ]
  },
  {
   "cell_type": "code",
   "execution_count": 27,
   "id": "b847e946",
   "metadata": {},
   "outputs": [],
   "source": [
    "from src.process_optimization.predict import predict_single, find_min_J"
   ]
  },
  {
   "cell_type": "code",
   "execution_count": 28,
   "id": "09702ec4",
   "metadata": {},
   "outputs": [
    {
     "name": "stdout",
     "output_type": "stream",
     "text": [
      "J = 1.0321346521377563\n"
     ]
    }
   ],
   "source": [
    "## 15,0.000164,0.0526,0.006 1.03241\n",
    "result = predict_single(model, [15,0.000164,0.0526,0.006])\n",
    "print(\"J =\", result)"
   ]
  },
  {
   "cell_type": "code",
   "execution_count": 29,
   "id": "31242f55",
   "metadata": {},
   "outputs": [
    {
     "name": "stdout",
     "output_type": "stream",
     "text": [
      "J = 1.031116008758545\n"
     ]
    }
   ],
   "source": [
    "result = predict_single(model, [25.0, 0.0002, 0.065, 0.005])\n",
    "print(\"J =\", result)"
   ]
  },
  {
   "cell_type": "code",
   "execution_count": 30,
   "id": "c58b7c31",
   "metadata": {},
   "outputs": [
    {
     "name": "stdout",
     "output_type": "stream",
     "text": [
      "Optimal parameters = [50, 0.00018067469765876976, 0.06351935646957439, 0.0030992892615893763] \n",
      "\n",
      "Optimal  J = 1.0235769748687744\n"
     ]
    }
   ],
   "source": [
    "bounds = [(5, 50), (100e-6, 200e-6), (0.04, 0.08), (0.003, 0.01)]\n",
    "\n",
    "optimal_parameters, optimal_j = find_min_J(model, bounds)\n",
    "\n",
    "print(\"Optimal parameters =\", optimal_parameters,'\\n')\n",
    "print(\"Optimal  J =\", optimal_j)"
   ]
  },
  {
   "cell_type": "code",
   "execution_count": 33,
   "id": "6987976f",
   "metadata": {},
   "outputs": [
    {
     "name": "stdout",
     "output_type": "stream",
     "text": [
      "{'MSE': 3.5485143938994793e-07, 'RMSE': 0.0005956940820504665, 'MAE': 0.0003680937042236265, 'MAPE (%)': 0.23705682179685786, 'R²': 0.9419175084013527, 'Accuracy < 5e-05': 3.0}\n"
     ]
    }
   ],
   "source": [
    "from src.evaluation.evaluate import evaluate_model\n",
    "y_pred = model.predict(X_test)\n",
    "print(evaluate_model(y_pred=y_pred,y_true=y_test))"
   ]
  }
 ],
 "metadata": {
  "kernelspec": {
   "display_name": "Python 3",
   "language": "python",
   "name": "python3"
  },
  "language_info": {
   "codemirror_mode": {
    "name": "ipython",
    "version": 3
   },
   "file_extension": ".py",
   "mimetype": "text/x-python",
   "name": "python",
   "nbconvert_exporter": "python",
   "pygments_lexer": "ipython3",
   "version": "3.11.1"
  }
 },
 "nbformat": 4,
 "nbformat_minor": 5
}

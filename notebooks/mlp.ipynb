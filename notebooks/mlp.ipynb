{
 "cells": [
  {
   "cell_type": "code",
   "execution_count": 9,
   "id": "1708a1fe",
   "metadata": {},
   "outputs": [],
   "source": [
    "import sys\n",
    "import os\n",
    "\n",
    "# Automatic search for project processing\n",
    "project_root = os.path.abspath(os.path.join(os.getcwd(), \"..\"))\n",
    "if project_root not in sys.path:\n",
    "    sys.path.append(project_root)"
   ]
  },
  {
   "cell_type": "code",
   "execution_count": 10,
   "id": "6cc454b2",
   "metadata": {},
   "outputs": [
    {
     "data": {
      "image/png": "[encoded data removed]",
      "text/plain": [
       "<Figure size 1250x400 with 1 Axes>"
      ]
     },
     "metadata": {},
     "output_type": "display_data"
    }
   ],
   "source": [
    "from src.data_preprocess.load import file_to_pd\n",
    "\n",
    "df = file_to_pd('../data/output.csv')\n",
    "\n",
    "from src.visualization.visualization import render_mpl_table\n",
    "\n",
    "render_mpl_table(df.head(5))"
   ]
  },
  {
   "cell_type": "code",
   "execution_count": 11,
   "id": "fcc1fb85",
   "metadata": {},
   "outputs": [],
   "source": [
    "from src.data_preprocess.preprocess import data_preprocess\n",
    "\n",
    "train_loader, test_loader, scaler_X, scaler_y = data_preprocess(df, model_name='mlp')"
   ]
  },
  {
   "cell_type": "code",
   "execution_count": 12,
   "id": "128c3619",
   "metadata": {},
   "outputs": [
    {
     "name": "stdout",
     "output_type": "stream",
     "text": [
      "[Epoch 0] Loss: 0.789173\n",
      "[Epoch 50] Loss: 0.073390\n",
      "[Epoch 100] Loss: 0.008839\n",
      "[Epoch 150] Loss: 0.060626\n",
      "[Epoch 200] Loss: 0.005624\n",
      "[Epoch 250] Loss: 0.007302\n",
      "[Epoch 300] Loss: 0.004765\n",
      "[Epoch 350] Loss: 0.006279\n",
      "[Epoch 400] Loss: 0.007962\n",
      "[Epoch 450] Loss: 0.026766\n",
      "[Epoch 500] Loss: 0.020237\n",
      "[Epoch 550] Loss: 0.008432\n",
      "[Epoch 600] Loss: 0.003579\n",
      "[Epoch 650] Loss: 0.004824\n",
      "[Epoch 700] Loss: 0.000614\n",
      "[Epoch 750] Loss: 0.001571\n",
      "[Epoch 800] Loss: 0.002475\n",
      "[Epoch 850] Loss: 0.003269\n",
      "[Epoch 900] Loss: 0.005603\n",
      "[Epoch 950] Loss: 0.012605\n",
      "[Epoch 1000] Loss: 0.002390\n",
      "[Epoch 1050] Loss: 0.003927\n",
      "[Epoch 1100] Loss: 0.004380\n",
      "[Epoch 1150] Loss: 0.003552\n",
      "[Epoch 1200] Loss: 0.001247\n",
      "[Epoch 1250] Loss: 0.001191\n",
      "[Epoch 1300] Loss: 0.001082\n",
      "[Epoch 1350] Loss: 0.002406\n",
      "[Epoch 1400] Loss: 0.023680\n",
      "[Epoch 1450] Loss: 0.001829\n",
      "[Epoch 1500] Loss: 0.005658\n",
      "[Epoch 1550] Loss: 0.001115\n",
      "[Epoch 1600] Loss: 0.000727\n",
      "[Epoch 1650] Loss: 0.000774\n",
      "[Epoch 1700] Loss: 0.006425\n",
      "[Epoch 1750] Loss: 0.004060\n",
      "[Epoch 1800] Loss: 0.003950\n",
      "[Epoch 1850] Loss: 0.001327\n",
      "[Epoch 1900] Loss: 0.000530\n",
      "[Epoch 1950] Loss: 0.003813\n"
     ]
    }
   ],
   "source": [
    "from src.train.train import train_mlp\n",
    "from src.models.model_factory import get_model\n",
    "model = train_mlp(get_model('mlp'),train_loader=train_loader)"
   ]
  },
  {
   "cell_type": "code",
   "execution_count": 13,
   "id": "a9c0ef98",
   "metadata": {},
   "outputs": [],
   "source": [
    "from src.process_optimization.predict import predict_single, find_min_J"
   ]
  },
  {
   "cell_type": "code",
   "execution_count": 14,
   "id": "d296e299",
   "metadata": {},
   "outputs": [
    {
     "name": "stdout",
     "output_type": "stream",
     "text": [
      "J = 1.0308828353881836\n"
     ]
    }
   ],
   "source": [
    "result = predict_single(model, [25.0, 0.0002, 0.065, 0.005], scaler_X, scaler_y)\n",
    "print(\"J =\", result)"
   ]
  },
  {
   "cell_type": "code",
   "execution_count": 15,
   "id": "f00eb3ec",
   "metadata": {},
   "outputs": [
    {
     "name": "stdout",
     "output_type": "stream",
     "text": [
      "Optimal parameters = [50, 0.00010022544165498318, 0.0799997168186773, 0.009999991742980396] \n",
      "\n",
      "Optimal  J = 1.022822618484497\n"
     ]
    }
   ],
   "source": [
    "bounds = [(5, 50), (100e-6, 200e-6), (0.04, 0.08), (0.003, 0.01)]\n",
    "\n",
    "optimal_parameters, optimal_j = find_min_J(model, bounds, scaler_X, scaler_y)\n",
    "\n",
    "print(\"Optimal parameters =\", optimal_parameters,'\\n')\n",
    "print(\"Optimal  J =\", optimal_j)"
   ]
  },
  {
   "cell_type": "code",
   "execution_count": 22,
   "id": "22b8479c",
   "metadata": {},
   "outputs": [
    {
     "name": "stdout",
     "output_type": "stream",
     "text": [
      "{'MSE': 2.8798108786531884e-08, 'RMSE': 0.00016970005535217684, 'MAE': 9.692907042335719e-05, 'MAPE (%)': 0.009410361235495657, 'R²': 0.9952862858772278, 'Accuracy < 0.005': 100.0}\n"
     ]
    }
   ],
   "source": [
    "from src.evaluation.evaluate import evaluate_model\n",
    "import torch\n",
    "X_test_all, y_test_all = [], []\n",
    "\n",
    "for X_batch, y_batch in test_loader:\n",
    "    X_test_all.append(X_batch)\n",
    "    y_test_all.append(y_batch)\n",
    "    \n",
    "X_test_np = torch.cat(X_test_all).numpy()\n",
    "y_test_np = torch.cat(y_test_all).numpy()\n",
    "\n",
    "\n",
    "y_pred = model.predict(X_test_np)\n",
    "y_test_original = scaler_y.inverse_transform(y_test_np)\n",
    "y_pred_original = scaler_y.inverse_transform(y_pred)\n",
    "metrics = evaluate_model(y_true=y_test_original, y_pred=y_pred_original)\n",
    "\n",
    "print(metrics)"
   ]
  }
 ],
 "metadata": {
  "kernelspec": {
   "display_name": "Python 3",
   "language": "python",
   "name": "python3"
  },
  "language_info": {
   "codemirror_mode": {
    "name": "ipython",
    "version": 3
   },
   "file_extension": ".py",
   "mimetype": "text/x-python",
   "name": "python",
   "nbconvert_exporter": "python",
   "pygments_lexer": "ipython3",
   "version": "3.11.1"
  }
 },
 "nbformat": 4,
 "nbformat_minor": 5
}

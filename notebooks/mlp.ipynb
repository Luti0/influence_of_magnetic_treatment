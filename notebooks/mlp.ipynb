{
 "cells": [
  {
   "cell_type": "code",
   "execution_count": 1,
   "id": "1708a1fe",
   "metadata": {},
   "outputs": [],
   "source": [
    "import sys\n",
    "import os\n",
    "\n",
    "# Automatic search for project processing\n",
    "project_root = os.path.abspath(os.path.join(os.getcwd(), \"..\"))\n",
    "if project_root not in sys.path:\n",
    "    sys.path.append(project_root)"
   ]
  },
  {
   "cell_type": "code",
   "execution_count": null,
   "id": "6cc454b2",
   "metadata": {},
   "outputs": [],
   "source": [
    "from scripts.preprocess import file_to_pd\n",
    "\n",
    "df = file_to_pd('../Data/output.csv')\n",
    "\n",
    "from scripts.render import render_mpl_table\n",
    "\n",
    "render_mpl_table(df.head(5))\n",
    "# plt.savefig(\"img/table.png\", bbox_inches=\"tight\")"
   ]
  },
  {
   "cell_type": "code",
   "execution_count": 3,
   "id": "fcc1fb85",
   "metadata": {},
   "outputs": [],
   "source": [
    "from scripts.preprocess import mlp_preprocess\n",
    "\n",
    "train_loader, test_loader, scaler_X, scaler_y = mlp_preprocess(df)"
   ]
  },
  {
   "cell_type": "code",
   "execution_count": 4,
   "id": "128c3619",
   "metadata": {},
   "outputs": [],
   "source": [
    "from scripts.train_nn import train_model\n",
    "\n",
    "model = train_model(train_loader=train_loader)"
   ]
  },
  {
   "cell_type": "code",
   "execution_count": 5,
   "id": "a9c0ef98",
   "metadata": {},
   "outputs": [],
   "source": [
    "from scripts.predict import predict_single, find_min_J\n",
    "from scripts.torch_wrapper import TorchModelWrapper"
   ]
  },
  {
   "cell_type": "code",
   "execution_count": null,
   "id": "d296e299",
   "metadata": {},
   "outputs": [],
   "source": [
    "wrapped_model = TorchModelWrapper(model)\n",
    "\n",
    "result = predict_single(wrapped_model, [25.0, 0.0002, 0.065, 0.005], scaler_X, scaler_y)\n",
    "print(\"J =\", result)"
   ]
  },
  {
   "cell_type": "code",
   "execution_count": null,
   "id": "f00eb3ec",
   "metadata": {},
   "outputs": [],
   "source": [
    "bounds = [(5, 50), (100e-6, 200e-6), (0.04, 0.08), (0.003, 0.01)]\n",
    "\n",
    "optimal_parameters, optimal_j = find_min_J(wrapped_model, bounds, scaler_X, scaler_y, steps_per_float=20)\n",
    "\n",
    "print(\"Optimal parameters =\", optimal_parameters,'\\n')\n",
    "print(\"Optimal  J =\", optimal_j)"
   ]
  }
 ],
 "metadata": {
  "kernelspec": {
   "display_name": "Python 3",
   "language": "python",
   "name": "python3"
  },
  "language_info": {
   "codemirror_mode": {
    "name": "ipython",
    "version": 3
   },
   "file_extension": ".py",
   "mimetype": "text/x-python",
   "name": "python",
   "nbconvert_exporter": "python",
   "pygments_lexer": "ipython3",
   "version": "3.11.1"
  }
 },
 "nbformat": 4,
 "nbformat_minor": 5
}
